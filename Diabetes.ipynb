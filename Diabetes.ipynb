{
 "cells": [
  {
   "cell_type": "code",
   "execution_count": 148,
   "metadata": {},
   "outputs": [],
   "source": [
    "%matplotlib inline\n",
    "import numpy as np\n",
    "import pandas as pd\n",
    "\n",
    "from sklearn.preprocessing import StandardScaler\n",
    "from sklearn.preprocessing import Imputer\n",
    "from sklearn.model_selection import train_test_split\n",
    "\n",
    "from sklearn.neighbors import KNeighborsClassifier\n",
    "from sklearn.svm import SVC\n",
    "from sklearn.linear_model import LogisticRegression\n",
    "from sklearn.tree import DecisionTreeClassifier\n",
    "from sklearn.naive_bayes import GaussianNB\n",
    "from sklearn.ensemble import RandomForestClassifier\n",
    "from sklearn.ensemble import GradientBoostingClassifier\n",
    "from sklearn.pipeline import make_pipeline\n",
    "\n",
    "from sklearn.model_selection import cross_val_score\n",
    "from sklearn import cross_validation\n",
    "from sklearn.metrics import accuracy_score\n",
    "from sklearn.metrics import confusion_matrix\n",
    "from sklearn.metrics import classification_report\n",
    "from sklearn.metrics import roc_curve, auc\n",
    "\n",
    "import seaborn as sns\n",
    "import matplotlib.pyplot as plt\n",
    "\n",
    "sns.set_style(\"whitegrid\")"
   ]
  },
  {
   "cell_type": "code",
   "execution_count": 149,
   "metadata": {},
   "outputs": [
    {
     "data": {
      "text/html": [
       "<div>\n",
       "<style>\n",
       "    .dataframe thead tr:only-child th {\n",
       "        text-align: right;\n",
       "    }\n",
       "\n",
       "    .dataframe thead th {\n",
       "        text-align: left;\n",
       "    }\n",
       "\n",
       "    .dataframe tbody tr th {\n",
       "        vertical-align: top;\n",
       "    }\n",
       "</style>\n",
       "<table border=\"1\" class=\"dataframe\">\n",
       "  <thead>\n",
       "    <tr style=\"text-align: right;\">\n",
       "      <th></th>\n",
       "      <th>Pregnancy_Count</th>\n",
       "      <th>Glucone_conc</th>\n",
       "      <th>Blood_pressure</th>\n",
       "      <th>Skin_thickness</th>\n",
       "      <th>Insulin</th>\n",
       "      <th>BMI</th>\n",
       "      <th>DPF</th>\n",
       "      <th>Age</th>\n",
       "      <th>Class</th>\n",
       "    </tr>\n",
       "  </thead>\n",
       "  <tbody>\n",
       "    <tr>\n",
       "      <th>0</th>\n",
       "      <td>6</td>\n",
       "      <td>148</td>\n",
       "      <td>72</td>\n",
       "      <td>35</td>\n",
       "      <td>0</td>\n",
       "      <td>33.6</td>\n",
       "      <td>0.627</td>\n",
       "      <td>50</td>\n",
       "      <td>1</td>\n",
       "    </tr>\n",
       "    <tr>\n",
       "      <th>1</th>\n",
       "      <td>1</td>\n",
       "      <td>85</td>\n",
       "      <td>66</td>\n",
       "      <td>29</td>\n",
       "      <td>0</td>\n",
       "      <td>26.6</td>\n",
       "      <td>0.351</td>\n",
       "      <td>31</td>\n",
       "      <td>0</td>\n",
       "    </tr>\n",
       "    <tr>\n",
       "      <th>2</th>\n",
       "      <td>8</td>\n",
       "      <td>183</td>\n",
       "      <td>64</td>\n",
       "      <td>0</td>\n",
       "      <td>0</td>\n",
       "      <td>23.3</td>\n",
       "      <td>0.672</td>\n",
       "      <td>32</td>\n",
       "      <td>1</td>\n",
       "    </tr>\n",
       "    <tr>\n",
       "      <th>3</th>\n",
       "      <td>1</td>\n",
       "      <td>89</td>\n",
       "      <td>66</td>\n",
       "      <td>23</td>\n",
       "      <td>94</td>\n",
       "      <td>28.1</td>\n",
       "      <td>0.167</td>\n",
       "      <td>21</td>\n",
       "      <td>0</td>\n",
       "    </tr>\n",
       "    <tr>\n",
       "      <th>4</th>\n",
       "      <td>0</td>\n",
       "      <td>137</td>\n",
       "      <td>40</td>\n",
       "      <td>35</td>\n",
       "      <td>168</td>\n",
       "      <td>43.1</td>\n",
       "      <td>2.288</td>\n",
       "      <td>33</td>\n",
       "      <td>1</td>\n",
       "    </tr>\n",
       "  </tbody>\n",
       "</table>\n",
       "</div>"
      ],
      "text/plain": [
       "   Pregnancy_Count  Glucone_conc  Blood_pressure  Skin_thickness  Insulin  \\\n",
       "0                6           148              72              35        0   \n",
       "1                1            85              66              29        0   \n",
       "2                8           183              64               0        0   \n",
       "3                1            89              66              23       94   \n",
       "4                0           137              40              35      168   \n",
       "\n",
       "    BMI    DPF  Age  Class  \n",
       "0  33.6  0.627   50      1  \n",
       "1  26.6  0.351   31      0  \n",
       "2  23.3  0.672   32      1  \n",
       "3  28.1  0.167   21      0  \n",
       "4  43.1  2.288   33      1  "
      ]
     },
     "execution_count": 149,
     "metadata": {},
     "output_type": "execute_result"
    }
   ],
   "source": [
    "col_names = ['Pregnancy_Count','Glucone_conc','Blood_pressure','Skin_thickness','Insulin','BMI','DPF','Age','Class']\n",
    "data = pd.read_csv('./Diabetes.tsv', skiprows=9, names=col_names)\n",
    "data.head()"
   ]
  },
  {
   "cell_type": "code",
   "execution_count": 150,
   "metadata": {},
   "outputs": [
    {
     "data": {
      "image/png": "[encoded data removed]",
      "text/plain": [
       "<matplotlib.figure.Figure at 0x7efeadf6fd50>"
      ]
     },
     "metadata": {},
     "output_type": "display_data"
    }
   ],
   "source": [
    "fig = data.hist(figsize=(9,9))"
   ]
  },
  {
   "cell_type": "code",
   "execution_count": 120,
   "metadata": {},
   "outputs": [
    {
     "data": {
      "text/plain": [
       "<matplotlib.axes._subplots.AxesSubplot at 0x7efea654c410>"
      ]
     },
     "execution_count": 120,
     "metadata": {},
     "output_type": "execute_result"
    },
    {
     "data": {
      "image/png": "[encoded data removed]",
      "text/plain": [
       "<matplotlib.figure.Figure at 0x7efea62fd190>"
      ]
     },
     "metadata": {},
     "output_type": "display_data"
    }
   ],
   "source": [
    "# Check if there are any correlations between the features. \n",
    "sns.heatmap(data.corr())"
   ]
  },
  {
   "cell_type": "code",
   "execution_count": 25,
   "metadata": {},
   "outputs": [
    {
     "data": {
      "text/html": [
       "<div>\n",
       "<style>\n",
       "    .dataframe thead tr:only-child th {\n",
       "        text-align: right;\n",
       "    }\n",
       "\n",
       "    .dataframe thead th {\n",
       "        text-align: left;\n",
       "    }\n",
       "\n",
       "    .dataframe tbody tr th {\n",
       "        vertical-align: top;\n",
       "    }\n",
       "</style>\n",
       "<table border=\"1\" class=\"dataframe\">\n",
       "  <thead>\n",
       "    <tr style=\"text-align: right;\">\n",
       "      <th></th>\n",
       "      <th>Pregnancy_Count</th>\n",
       "      <th>Glucone_conc</th>\n",
       "      <th>Blood_pressure</th>\n",
       "      <th>Skin_thickness</th>\n",
       "      <th>Insulin</th>\n",
       "      <th>BMI</th>\n",
       "      <th>DPF</th>\n",
       "      <th>Age</th>\n",
       "      <th>Class</th>\n",
       "    </tr>\n",
       "  </thead>\n",
       "  <tbody>\n",
       "    <tr>\n",
       "      <th>count</th>\n",
       "      <td>768.000000</td>\n",
       "      <td>768.000000</td>\n",
       "      <td>768.000000</td>\n",
       "      <td>768.000000</td>\n",
       "      <td>768.000000</td>\n",
       "      <td>768.000000</td>\n",
       "      <td>768.000000</td>\n",
       "      <td>768.000000</td>\n",
       "      <td>768.000000</td>\n",
       "    </tr>\n",
       "    <tr>\n",
       "      <th>mean</th>\n",
       "      <td>3.845052</td>\n",
       "      <td>120.894531</td>\n",
       "      <td>69.105469</td>\n",
       "      <td>20.536458</td>\n",
       "      <td>79.799479</td>\n",
       "      <td>31.992578</td>\n",
       "      <td>0.471876</td>\n",
       "      <td>33.240885</td>\n",
       "      <td>0.348958</td>\n",
       "    </tr>\n",
       "    <tr>\n",
       "      <th>std</th>\n",
       "      <td>3.369578</td>\n",
       "      <td>31.972618</td>\n",
       "      <td>19.355807</td>\n",
       "      <td>15.952218</td>\n",
       "      <td>115.244002</td>\n",
       "      <td>7.884160</td>\n",
       "      <td>0.331329</td>\n",
       "      <td>11.760232</td>\n",
       "      <td>0.476951</td>\n",
       "    </tr>\n",
       "    <tr>\n",
       "      <th>min</th>\n",
       "      <td>0.000000</td>\n",
       "      <td>0.000000</td>\n",
       "      <td>0.000000</td>\n",
       "      <td>0.000000</td>\n",
       "      <td>0.000000</td>\n",
       "      <td>0.000000</td>\n",
       "      <td>0.078000</td>\n",
       "      <td>21.000000</td>\n",
       "      <td>0.000000</td>\n",
       "    </tr>\n",
       "    <tr>\n",
       "      <th>25%</th>\n",
       "      <td>1.000000</td>\n",
       "      <td>99.000000</td>\n",
       "      <td>62.000000</td>\n",
       "      <td>0.000000</td>\n",
       "      <td>0.000000</td>\n",
       "      <td>27.300000</td>\n",
       "      <td>0.243750</td>\n",
       "      <td>24.000000</td>\n",
       "      <td>0.000000</td>\n",
       "    </tr>\n",
       "    <tr>\n",
       "      <th>50%</th>\n",
       "      <td>3.000000</td>\n",
       "      <td>117.000000</td>\n",
       "      <td>72.000000</td>\n",
       "      <td>23.000000</td>\n",
       "      <td>30.500000</td>\n",
       "      <td>32.000000</td>\n",
       "      <td>0.372500</td>\n",
       "      <td>29.000000</td>\n",
       "      <td>0.000000</td>\n",
       "    </tr>\n",
       "    <tr>\n",
       "      <th>75%</th>\n",
       "      <td>6.000000</td>\n",
       "      <td>140.250000</td>\n",
       "      <td>80.000000</td>\n",
       "      <td>32.000000</td>\n",
       "      <td>127.250000</td>\n",
       "      <td>36.600000</td>\n",
       "      <td>0.626250</td>\n",
       "      <td>41.000000</td>\n",
       "      <td>1.000000</td>\n",
       "    </tr>\n",
       "    <tr>\n",
       "      <th>max</th>\n",
       "      <td>17.000000</td>\n",
       "      <td>199.000000</td>\n",
       "      <td>122.000000</td>\n",
       "      <td>99.000000</td>\n",
       "      <td>846.000000</td>\n",
       "      <td>67.100000</td>\n",
       "      <td>2.420000</td>\n",
       "      <td>81.000000</td>\n",
       "      <td>1.000000</td>\n",
       "    </tr>\n",
       "  </tbody>\n",
       "</table>\n",
       "</div>"
      ],
      "text/plain": [
       "       Pregnancy_Count  Glucone_conc  Blood_pressure  Skin_thickness  \\\n",
       "count       768.000000    768.000000      768.000000      768.000000   \n",
       "mean          3.845052    120.894531       69.105469       20.536458   \n",
       "std           3.369578     31.972618       19.355807       15.952218   \n",
       "min           0.000000      0.000000        0.000000        0.000000   \n",
       "25%           1.000000     99.000000       62.000000        0.000000   \n",
       "50%           3.000000    117.000000       72.000000       23.000000   \n",
       "75%           6.000000    140.250000       80.000000       32.000000   \n",
       "max          17.000000    199.000000      122.000000       99.000000   \n",
       "\n",
       "          Insulin         BMI         DPF         Age       Class  \n",
       "count  768.000000  768.000000  768.000000  768.000000  768.000000  \n",
       "mean    79.799479   31.992578    0.471876   33.240885    0.348958  \n",
       "std    115.244002    7.884160    0.331329   11.760232    0.476951  \n",
       "min      0.000000    0.000000    0.078000   21.000000    0.000000  \n",
       "25%      0.000000   27.300000    0.243750   24.000000    0.000000  \n",
       "50%     30.500000   32.000000    0.372500   29.000000    0.000000  \n",
       "75%    127.250000   36.600000    0.626250   41.000000    1.000000  \n",
       "max    846.000000   67.100000    2.420000   81.000000    1.000000  "
      ]
     },
     "execution_count": 25,
     "metadata": {},
     "output_type": "execute_result"
    }
   ],
   "source": [
    "data.describe()"
   ]
  },
  {
   "cell_type": "code",
   "execution_count": 42,
   "metadata": {},
   "outputs": [
    {
     "data": {
      "text/plain": [
       "Pregnancy_Count    0\n",
       "Glucone_conc       0\n",
       "Blood_pressure     0\n",
       "Skin_thickness     0\n",
       "Insulin            0\n",
       "BMI                0\n",
       "DPF                0\n",
       "Age                0\n",
       "Class              0\n",
       "dtype: int64"
      ]
     },
     "execution_count": 42,
     "metadata": {},
     "output_type": "execute_result"
    }
   ],
   "source": [
    "### DATA PREPROCESSING ###\n",
    "\n",
    "# Step 1 :  Check for missing data or invalid values.\n",
    "data.isnull().sum()"
   ]
  },
  {
   "cell_type": "code",
   "execution_count": 75,
   "metadata": {},
   "outputs": [],
   "source": [
    "# There are no missing values. \n",
    "# However, the following coloumns have an invalid zero value :\n",
    "# ---> Glucose Conc, Blood Pressure, Skin Thickness, Insulin, BMI \n",
    "\n",
    "# mark zero values as missing or NaN\n",
    "data.iloc[:,1:6] = data.iloc[:,1:6].replace(0, np.NaN)\n",
    "\n",
    "# Drop row if more than 2 values are missing.\n",
    "data.dropna(thresh=2, axis=0, inplace=True)\n",
    "\n",
    "# Replace np.nan with median value. \n",
    "imputer = Imputer(missing_values = np.NAN, strategy = 'median', axis = 0)\n",
    "imputer = imputer.fit(data.iloc[:,1:6])\n",
    "data.iloc[:,1:6] = imputer.transform(data.iloc[:,1:6])"
   ]
  },
  {
   "cell_type": "code",
   "execution_count": 76,
   "metadata": {},
   "outputs": [
    {
     "data": {
      "text/plain": [
       "(768, 9)"
      ]
     },
     "execution_count": 76,
     "metadata": {},
     "output_type": "execute_result"
    }
   ],
   "source": [
    "data.shape"
   ]
  },
  {
   "cell_type": "code",
   "execution_count": 70,
   "metadata": {},
   "outputs": [],
   "source": [
    "X = data.iloc[:, :-1].values\n",
    "y = data.iloc[:, -1].values"
   ]
  },
  {
   "cell_type": "code",
   "execution_count": 127,
   "metadata": {},
   "outputs": [
    {
     "name": "stdout",
     "output_type": "stream",
     "text": [
      "      Name     Score\n",
      "0      KNN  0.709957\n",
      "1  SVC_lnr  0.748918\n",
      "2  SVC_rbf  0.761905\n",
      "3       LR  0.761905\n",
      "4       DT  0.692641\n",
      "5      GNB  0.748918\n",
      "6       RF  0.744589\n",
      "7       GB  0.753247\n"
     ]
    }
   ],
   "source": [
    "## MODEL SELECTION\n",
    "## Evaluating the performance of various models using default parameters. \n",
    "## Contenders for the best classifier : K-Nearest Neighbors, Support Vector Classifier, \n",
    "## Logistic Regression, Gaussian Naive Bayes, Random Forest and Gradient Boost \n",
    "\n",
    "# Evaluation method 1 : Train/Test Split\n",
    "\n",
    "# Splitting the dataset into the Training set and Test set\n",
    "X_train, X_test, y_train, y_test = train_test_split(X, y, test_size = 0.3, stratify=y, random_state = 5)\n",
    "\n",
    "# Scaling features\n",
    "sc_X = StandardScaler()\n",
    "X_train = sc_X.fit_transform(X_train)\n",
    "X_test = sc_X.transform(X_test)\n",
    "\n",
    "models = []\n",
    "\n",
    "models.append(('KNN', KNeighborsClassifier()))\n",
    "models.append(('SVC_lnr', SVC(kernel='linear')))\n",
    "models.append(('SVC_rbf', SVC(kernel='rbf')))\n",
    "models.append(('LR', LogisticRegression()))\n",
    "models.append(('DT', DecisionTreeClassifier()))\n",
    "models.append(('GNB', GaussianNB()))\n",
    "models.append(('RF', RandomForestClassifier()))\n",
    "models.append(('GB', GradientBoostingClassifier()))\n",
    "\n",
    "names = []\n",
    "scores = []\n",
    "\n",
    "for name, model in models:\n",
    "    model.fit(X_train, y_train)\n",
    "    y_pred = model.predict(X_test)\n",
    "    scores.append(accuracy_score(y_test, y_pred))\n",
    "    names.append(name)\n",
    "    \n",
    "tr_split = pd.DataFrame({'Name': names, 'Score': scores})\n",
    "print(tr_split)"
   ]
  },
  {
   "cell_type": "code",
   "execution_count": 110,
   "metadata": {},
   "outputs": [
    {
     "name": "stdout",
     "output_type": "stream",
     "text": [
      "   Mean_Score     Name\n",
      "0    0.735719      KNN\n",
      "1    0.765648  SVC_lnr\n",
      "2    0.752670  SVC_rbf\n",
      "3    0.770868       LR\n",
      "4    0.704558       DT\n",
      "5    0.750047      GNB\n",
      "6    0.739674       RF\n",
      "7    0.765631       GB\n"
     ]
    }
   ],
   "source": [
    "# Evaluation method 2 : K-fold Cross Validation \n",
    "# More accurate than the test-train split method.\n",
    "\n",
    "names_cv = []\n",
    "scores_cv = []\n",
    "\n",
    "for name, model in models:\n",
    "    classifier_pipeline = make_pipeline(StandardScaler(), model)\n",
    "    scores = cross_validation.cross_val_score(classifier_pipeline, X, y, cv=5)\n",
    "    scores_cv.append(scores.mean())\n",
    "    names_cv.append(name)\n",
    "    \n",
    "cv = pd.DataFrame({'Name': names_cv, 'Mean_Score': scores_cv})\n",
    "print(cv)"
   ]
  },
  {
   "cell_type": "code",
   "execution_count": 92,
   "metadata": {},
   "outputs": [
    {
     "name": "stdout",
     "output_type": "stream",
     "text": [
      "Best score: 76.82%\n",
      "Best estimator for parameter C: 1000.000000\n"
     ]
    }
   ],
   "source": [
    "# SVM and logistic regression perform the best.\n",
    "# Let's tune the parameters to improve the model performance. \n",
    "\n",
    "from sklearn.model_selection import GridSearchCV\n",
    "\n",
    "param_grid = {'C': [0.001, 0.01, 0.1, 1, 10, 100, 1000] }\n",
    "grid = GridSearchCV(LogisticRegression(), param_grid)\n",
    "grid.fit(X, y)\n",
    "\n",
    "# summarize the results of the grid search\n",
    "print(\"Best score: %0.2f%%\" % (100*grid.best_score_))\n",
    "print(\"Best estimator for parameter C: %f\" % (grid.best_estimator_.C))"
   ]
  },
  {
   "cell_type": "code",
   "execution_count": 94,
   "metadata": {},
   "outputs": [
    {
     "name": "stdout",
     "output_type": "stream",
     "text": [
      "Best score: 76.69%\n",
      "Best estimator for parameter C: 1000.000000\n"
     ]
    }
   ],
   "source": [
    "param_grid = {'C': [0.001, 0.01, 0.1, 1, 10, 100, 1000], 'kernel':['linear','rbf']}\n",
    "\n",
    "grid = GridSearchCV(SVC(), param_grid)\n",
    "grid.fit(X, y)\n",
    "\n",
    "# summarize the results of the grid search\n",
    "print(\"Best score: %0.2f\" % (100*grid.best_score_))\n",
    "print(\"Best estimator for parameter C: %f\" % (grid.best_estimator_.C))"
   ]
  },
  {
   "cell_type": "code",
   "execution_count": 142,
   "metadata": {},
   "outputs": [
    {
     "name": "stdout",
     "output_type": "stream",
     "text": [
      "The accuracy of the Final Logistic Regression model is 77.09\n"
     ]
    }
   ],
   "source": [
    "# Makinf final model using Logistic regression using the optimized parameters.\n",
    "\n",
    "classifier_pipeline = make_pipeline(StandardScaler(), LogisticRegression(C=1000))\n",
    "scores_final = cross_val_score(classifier_pipeline, X, y, cv=5).mean()\n",
    "print(\"The accuracy of the Final Logistic Regression model is %0.2f\" %(100*scores_final))"
   ]
  },
  {
   "cell_type": "code",
   "execution_count": 143,
   "metadata": {},
   "outputs": [
    {
     "data": {
      "image/png": "[encoded data removed]",
      "text/plain": [
       "<matplotlib.figure.Figure at 0x7efeae162a90>"
      ]
     },
     "metadata": {},
     "output_type": "display_data"
    }
   ],
   "source": [
    "# Confusion Matrix\n",
    "\n",
    "clf.fit(X_train,y_train)\n",
    "Conf=confusion_matrix(y_test,clf.predict(X_test))\n",
    "cm_fig = sns.heatmap(Conf,annot=True)"
   ]
  },
  {
   "cell_type": "code",
   "execution_count": 147,
   "metadata": {},
   "outputs": [
    {
     "name": "stdout",
     "output_type": "stream",
     "text": [
      "\n",
      "Classification Report : \n",
      "\n",
      "             precision    recall  f1-score   support\n",
      "\n",
      "          0       0.78      0.89      0.83       150\n",
      "          1       0.72      0.53      0.61        81\n",
      "\n",
      "avg / total       0.76      0.76      0.75       231\n",
      "\n"
     ]
    }
   ],
   "source": [
    "print (\"\\nClassification Report : \\n\")\n",
    "print(classification_report(y_test, clf.predict(X_test)))"
   ]
  },
  {
   "cell_type": "code",
   "execution_count": 134,
   "metadata": {},
   "outputs": [],
   "source": [
    "y_pred_quant = clf.predict_proba(X_test)[:, 1] #Only keep the first column, which is the 'pos' values\n",
    "fpr, tpr, thresholds = roc_curve(y_test, y_pred_quant)"
   ]
  },
  {
   "cell_type": "code",
   "execution_count": 151,
   "metadata": {},
   "outputs": [
    {
     "data": {
      "image/png": "[encoded data removed]",
      "text/plain": [
       "<matplotlib.figure.Figure at 0x7efea5ca40d0>"
      ]
     },
     "metadata": {},
     "output_type": "display_data"
    }
   ],
   "source": [
    "plt.plot(fpr, tpr)\n",
    "plt.xlim([0.0, 1.0])\n",
    "plt.ylim([0.0, 1.0])\n",
    "plt.rcParams['font.size'] = 12\n",
    "fig_title = (\"ROC curve for diabetes classifier, AUC = %0.3f\" %(auc(fpr,tpr)))\n",
    "plt.title(fig_title)\n",
    "plt.xlabel('False Positive Rate (1 - Specificity)')\n",
    "plt.ylabel('True Positive Rate (Sensitivity)')\n",
    "plt.grid(True)"
   ]
  },
  {
   "cell_type": "code",
   "execution_count": null,
   "metadata": {
    "collapsed": true
   },
   "outputs": [],
   "source": []
  }
 ],
 "metadata": {
  "kernelspec": {
   "display_name": "Python 2",
   "language": "python",
   "name": "python2"
  },
  "language_info": {
   "codemirror_mode": {
    "name": "ipython",
    "version": 2
   },
   "file_extension": ".py",
   "mimetype": "text/x-python",
   "name": "python",
   "nbconvert_exporter": "python",
   "pygments_lexer": "ipython2",
   "version": "2.7.13"
  }
 },
 "nbformat": 4,
 "nbformat_minor": 2
}
